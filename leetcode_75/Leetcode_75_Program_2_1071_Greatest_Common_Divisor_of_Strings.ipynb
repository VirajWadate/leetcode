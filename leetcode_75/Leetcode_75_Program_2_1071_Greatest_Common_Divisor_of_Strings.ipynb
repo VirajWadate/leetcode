{
 "cells": [
  {
   "cell_type": "markdown",
   "id": "5e412bab",
   "metadata": {},
   "source": [
    "## 1071. Greatest Common Divisor of Strings\n",
    "- For two strings s and t, we say \"t divides s\" if and only if s = t + t + t + ... + t + t (i.e., t is concatenated with itself one or more times).\n",
    "\n",
    "- Given two strings str1 and str2, return the largest string x such that x divides both str1 and str2.\n",
    "\n",
    "```\n",
    "Example 1:\n",
    "Input: str1 = \"ABCABC\", str2 = \"ABC\"\n",
    "Output: \"ABC\"\n",
    "\n",
    "Example 2:\n",
    "Input: str1 = \"ABABAB\", str2 = \"ABAB\"\n",
    "Output: \"AB\"\n",
    "\n",
    "Example 3:\n",
    "Input: str1 = \"LEET\", str2 = \"CODE\"\n",
    "Output: \"\"\n",
    "```"
   ]
  },
  {
   "cell_type": "markdown",
   "id": "5c5d6446",
   "metadata": {},
   "source": [
    "### Approach\n",
    "1. Calculate `length` of both strings\n",
    "2. Iterate with `min length` in `descending order` till 0\n",
    "    - 2.1 For each iteration check one of the or both string are `divisible by` length via `modulus operator`\n",
    "    - 2.2 If not divisible then continue\n",
    "3. Create helper function\n",
    "    - 3.1 Calculate floor division for both string\n",
    "    - 3.2 Check valid divisor and return that length\n",
    "    - 3.3 Formula str1[:length] * <floor division> == str1 and str1[:length] * <floor division> == str2"
   ]
  },
  {
   "cell_type": "code",
   "execution_count": 10,
   "id": "876bba12",
   "metadata": {},
   "outputs": [],
   "source": [
    "class Solution:\n",
    "    def gcdOfStrings(self, str1: str, str2: str) -> str:\n",
    "        len_s1, len_s2 = len(str1), len(str2)\n",
    "        \n",
    "        def is_divisor(length):\n",
    "            floor_s1, floor_s2 = len_s1 // length, len_s2 // length\n",
    "            return str1[:length] * floor_s1 == str1 and str1[:length]* floor_s2 == str2\n",
    "        \n",
    "        for length in range(min(len_s1, len_s2),0,-1):\n",
    "            if not len_s1 % length or len_s2 % length:\n",
    "                if is_divisor(length):\n",
    "                    return str1[:length]"
   ]
  },
  {
   "cell_type": "code",
   "execution_count": 11,
   "id": "f401e663",
   "metadata": {},
   "outputs": [],
   "source": [
    "sol = Solution()"
   ]
  },
  {
   "cell_type": "code",
   "execution_count": 12,
   "id": "9aad75e1",
   "metadata": {},
   "outputs": [
    {
     "data": {
      "text/plain": [
       "'ABC'"
      ]
     },
     "execution_count": 12,
     "metadata": {},
     "output_type": "execute_result"
    }
   ],
   "source": [
    "sol.gcdOfStrings(\"ABCABC\", \"ABC\")"
   ]
  },
  {
   "cell_type": "code",
   "execution_count": 13,
   "id": "eb8f5355",
   "metadata": {},
   "outputs": [
    {
     "data": {
      "text/plain": [
       "'AB'"
      ]
     },
     "execution_count": 13,
     "metadata": {},
     "output_type": "execute_result"
    }
   ],
   "source": [
    "sol.gcdOfStrings(\"ABABAB\", \"ABAB\")"
   ]
  },
  {
   "cell_type": "code",
   "execution_count": 14,
   "id": "934b30b2",
   "metadata": {},
   "outputs": [],
   "source": [
    "sol.gcdOfStrings(\"LEET\", \"CODE\")"
   ]
  }
 ],
 "metadata": {
  "kernelspec": {
   "display_name": "Python 3 (ipykernel)",
   "language": "python",
   "name": "python3"
  },
  "language_info": {
   "codemirror_mode": {
    "name": "ipython",
    "version": 3
   },
   "file_extension": ".py",
   "mimetype": "text/x-python",
   "name": "python",
   "nbconvert_exporter": "python",
   "pygments_lexer": "ipython3",
   "version": "3.9.13"
  }
 },
 "nbformat": 4,
 "nbformat_minor": 5
}
