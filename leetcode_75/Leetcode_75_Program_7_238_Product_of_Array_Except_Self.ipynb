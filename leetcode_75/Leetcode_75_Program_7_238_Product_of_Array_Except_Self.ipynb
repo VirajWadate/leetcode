{
 "cells": [
  {
   "cell_type": "markdown",
   "id": "c50a7064",
   "metadata": {},
   "source": [
    "### 238. Product of Array Except Self\n",
    "\n",
    "https://leetcode.com/problems/product-of-array-except-self/description/?envType=study-plan-v2&envId=leetcode-75\n",
    "\n",
    "- Given an integer array nums, return an array answer such that answer[i] is equal to the product of all the elements of nums except nums[i].\n",
    "\n",
    "- The product of any prefix or suffix of nums is guaranteed to fit in a 32-bit integer.\n",
    "\n",
    "- You must write an algorithm that runs in O(n) time and without using the division operation.\n",
    "\n",
    "```\n",
    "Example 1:\n",
    "Input: nums = [1,2,3,4]\n",
    "Output: [24,12,8,6]\n",
    "\n",
    "Example 2:\n",
    "Input: nums = [-1,1,0,-3,3]\n",
    "Output: [0,0,9,0,0]\n",
    "```"
   ]
  },
  {
   "cell_type": "markdown",
   "id": "e1aa890c",
   "metadata": {},
   "source": [
    "### Approach\n",
    "1. Create three variables prefix, suffix and result\n",
    "    - 1.1 prefix and suffix will have default value 1\n",
    "    - 1.2 result is list => result = [1] * len(nums)\n",
    "2. Iteration 1\n",
    "    - 2.1 result[i] = prefix -> This will store prefix value\n",
    "    - 2.2 prefix *= nums[i] -> This will calculate prefix \n",
    "3. Iteration 2 - start from decending order\n",
    "    - 3.1 result[i] *= suffix -> Multiply with suffix value\n",
    "    - 3.2 suffix *= nums[i] -> Re-compute suffix value\n",
    "4. Return result"
   ]
  },
  {
   "cell_type": "code",
   "execution_count": 1,
   "id": "f843aa8f",
   "metadata": {},
   "outputs": [],
   "source": [
    "class Solution:\n",
    "    def productExceptSelf(self, nums):\n",
    "        prefix, suffix = 1, 1\n",
    "        result= [1] * len(nums)\n",
    "        length = len(nums)\n",
    "        \n",
    "        for i in range(length):\n",
    "            result[i] = prefix\n",
    "            prefix *= nums[i]\n",
    "        \n",
    "        for i in range(length-1, -1, -1):\n",
    "            result[i] *= suffix\n",
    "            suffix *= nums[i]\n",
    "            \n",
    "        return result"
   ]
  },
  {
   "cell_type": "code",
   "execution_count": 2,
   "id": "35720642",
   "metadata": {},
   "outputs": [],
   "source": [
    "sol = Solution()"
   ]
  },
  {
   "cell_type": "code",
   "execution_count": 3,
   "id": "47e0624a",
   "metadata": {},
   "outputs": [
    {
     "data": {
      "text/plain": [
       "[24, 12, 8, 6]"
      ]
     },
     "execution_count": 3,
     "metadata": {},
     "output_type": "execute_result"
    }
   ],
   "source": [
    "sol.productExceptSelf([1,2,3,4])"
   ]
  },
  {
   "cell_type": "code",
   "execution_count": 4,
   "id": "98785204",
   "metadata": {},
   "outputs": [
    {
     "data": {
      "text/plain": [
       "[0, 0, 9, 0, 0]"
      ]
     },
     "execution_count": 4,
     "metadata": {},
     "output_type": "execute_result"
    }
   ],
   "source": [
    "sol.productExceptSelf([-1,1,0,-3,3])"
   ]
  }
 ],
 "metadata": {
  "kernelspec": {
   "display_name": "Python 3 (ipykernel)",
   "language": "python",
   "name": "python3"
  },
  "language_info": {
   "codemirror_mode": {
    "name": "ipython",
    "version": 3
   },
   "file_extension": ".py",
   "mimetype": "text/x-python",
   "name": "python",
   "nbconvert_exporter": "python",
   "pygments_lexer": "ipython3",
   "version": "3.9.13"
  }
 },
 "nbformat": 4,
 "nbformat_minor": 5
}
