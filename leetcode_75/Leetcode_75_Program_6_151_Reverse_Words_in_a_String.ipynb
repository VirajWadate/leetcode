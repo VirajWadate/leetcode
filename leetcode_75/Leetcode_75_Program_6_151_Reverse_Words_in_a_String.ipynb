{
 "cells": [
  {
   "cell_type": "markdown",
   "id": "c50a7064",
   "metadata": {},
   "source": [
    "### 151. Reverse Words in a String\n",
    "\n",
    "https://leetcode.com/problems/reverse-words-in-a-string/description/?envType=study-plan-v2&envId=leetcode-75\n",
    "\n",
    "- Given an input string s, reverse the order of the words.\n",
    "\n",
    "- A word is defined as a sequence of non-space characters. The words in s will be separated by at least one space.\n",
    "\n",
    "- Return a string of the words in reverse order concatenated by a single space.\n",
    "\n",
    "- Note that s may contain leading or trailing spaces or multiple spaces between two words. The returned string should only have a single space separating the words. Do not include any extra spaces.\n",
    "\n",
    "```\n",
    "Example 1:\n",
    "Input: s = \"the sky is blue\"\n",
    "Output: \"blue is sky the\"\n",
    "\n",
    "Example 2:\n",
    "Input: s = \"  hello world  \"\n",
    "Output: \"world hello\"\n",
    "Explanation: Your reversed string should not contain leading or trailing spaces.\n",
    "\n",
    "Example 3:\n",
    "Input: s = \"a good   example\"\n",
    "Output: \"example good a\"\n",
    "Explanation: You need to reduce multiple spaces between two words to a single space in the reversed string.\n",
    "```"
   ]
  },
  {
   "cell_type": "markdown",
   "id": "e1aa890c",
   "metadata": {},
   "source": [
    "### Approach\n",
    "1. Create two `list type` of variables `result` and `temp`\n",
    "2. Iterate on string\n",
    "    - 2.1 Condition 1 - Current character should not be empty white space (current_char != \" \")\n",
    "    - 2.2 Append current char to temp list\n",
    "    - 2.3 Condition 2 - temp list should not be empty then append temp list to result list. NOTE: Use ''.join(temp)\n",
    "3. Outside loop\n",
    "    - 3.1 Check temp list is empty if not then append temp list to result list. NOTE: Use ''.join(temp)\n",
    "4. Return `''.join(result[::-1])`"
   ]
  },
  {
   "cell_type": "code",
   "execution_count": 1,
   "id": "f843aa8f",
   "metadata": {},
   "outputs": [],
   "source": [
    "class Solution:\n",
    "    def reverseWords(self, s: str) -> str:\n",
    "        result = []\n",
    "        temp = []\n",
    "        for char in s:\n",
    "            if char != \" \":\n",
    "                temp.append(char)\n",
    "            elif temp:\n",
    "                result.append(''.join(temp))\n",
    "                temp = []\n",
    "        if temp:\n",
    "            result.append(''.join(temp))\n",
    "        return \" \".join(result[::-1])"
   ]
  },
  {
   "cell_type": "code",
   "execution_count": 2,
   "id": "cac05056",
   "metadata": {},
   "outputs": [],
   "source": [
    "sol = Solution()"
   ]
  },
  {
   "cell_type": "code",
   "execution_count": 3,
   "id": "4eb11e62",
   "metadata": {},
   "outputs": [
    {
     "data": {
      "text/plain": [
       "'blue is sky the'"
      ]
     },
     "execution_count": 3,
     "metadata": {},
     "output_type": "execute_result"
    }
   ],
   "source": [
    "sol.reverseWords(\"the sky is blue\")"
   ]
  },
  {
   "cell_type": "code",
   "execution_count": 4,
   "id": "7455d70c",
   "metadata": {},
   "outputs": [
    {
     "data": {
      "text/plain": [
       "'world hello'"
      ]
     },
     "execution_count": 4,
     "metadata": {},
     "output_type": "execute_result"
    }
   ],
   "source": [
    "sol.reverseWords(\"  hello world  \")"
   ]
  },
  {
   "cell_type": "code",
   "execution_count": 5,
   "id": "ee266de1",
   "metadata": {},
   "outputs": [
    {
     "data": {
      "text/plain": [
       "'example good a'"
      ]
     },
     "execution_count": 5,
     "metadata": {},
     "output_type": "execute_result"
    }
   ],
   "source": [
    "sol.reverseWords(\"a good   example\")"
   ]
  }
 ],
 "metadata": {
  "kernelspec": {
   "display_name": "Python 3 (ipykernel)",
   "language": "python",
   "name": "python3"
  },
  "language_info": {
   "codemirror_mode": {
    "name": "ipython",
    "version": 3
   },
   "file_extension": ".py",
   "mimetype": "text/x-python",
   "name": "python",
   "nbconvert_exporter": "python",
   "pygments_lexer": "ipython3",
   "version": "3.9.13"
  }
 },
 "nbformat": 4,
 "nbformat_minor": 5
}
