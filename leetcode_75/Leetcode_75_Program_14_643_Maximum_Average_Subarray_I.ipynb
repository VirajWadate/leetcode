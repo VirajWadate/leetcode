{
 "cells": [
  {
   "cell_type": "markdown",
   "id": "4299a246",
   "metadata": {},
   "source": [
    "## 643. Maximum Average Subarray I\n",
    "https://leetcode.com/problems/maximum-average-subarray-i/description/?envType=study-plan-v2&envId=leetcode-75\n",
    "\n",
    "- You are given an integer array nums consisting of n elements, and an integer k.\n",
    "\n",
    "- Find a contiguous subarray whose length is equal to k that has the maximum average value and return this value. Any answer with a calculation error less than 10-5 will be accepted.\n",
    "\n",
    "```\n",
    "Example 1:\n",
    "Input: nums = [1,12,-5,-6,50,3], k = 4\n",
    "Output: 12.75000\n",
    "Explanation: Maximum average is (12 - 5 - 6 + 50) / 4 = 51 / 4 = 12.75\n",
    "\n",
    "Example 2:\n",
    "Input: nums = [5], k = 1\n",
    "Output: 5.00000\n",
    "```"
   ]
  },
  {
   "cell_type": "markdown",
   "id": "47f28ccd",
   "metadata": {},
   "source": [
    "### Approach\n",
    "1. Create a variable `max_sum` with default value 0\n",
    "2. `Iteration 1` on nums till k position\n",
    "    - 2.1 `for n in range(k)`\n",
    "    - 2.2 Now sum of `all elements` and store in `current_sum`\n",
    "3. Assign `current_sum` to `max_sum`\n",
    "4. `Iteration 2` on nums from k to len(nums)\n",
    "    - 4.1 `for n in range(k, len(nums))`\n",
    "    - 4.2 Now sum of all elements and store in current_sum\n",
    "        - `current_sum = (current_sum - nums[i-k]) + nums[i]`\n",
    "    - 4.3 Compare `max(max_sum, current_sum)`\n",
    "5. Return max_sum/k"
   ]
  },
  {
   "cell_type": "markdown",
   "id": "f3ba6ff5",
   "metadata": {},
   "source": [
    "![image not found](\"maximum_average_subarray1.png\")"
   ]
  },
  {
   "cell_type": "code",
   "execution_count": 1,
   "id": "dc8f269d",
   "metadata": {},
   "outputs": [],
   "source": [
    "from typing import List\n",
    "\n",
    "class Solution:\n",
    "    def findMaxAverage(self, nums: List[int], k: int) -> float:\n",
    "        current_sum = 0\n",
    "        for i in range(k):\n",
    "            current_sum += nums[i]\n",
    "        max_sum = current_sum\n",
    "        \n",
    "        for i in range(k, len(nums)):\n",
    "            current_sum = (current_sum - nums[i-k]) + nums[i]\n",
    "            max_sum = max(max_sum, current_sum)\n",
    "        return max_sum/k"
   ]
  },
  {
   "cell_type": "code",
   "execution_count": 2,
   "id": "95f354b6",
   "metadata": {},
   "outputs": [],
   "source": [
    "sol = Solution()"
   ]
  },
  {
   "cell_type": "code",
   "execution_count": 3,
   "id": "16391efc",
   "metadata": {},
   "outputs": [
    {
     "data": {
      "text/plain": [
       "12.75"
      ]
     },
     "execution_count": 3,
     "metadata": {},
     "output_type": "execute_result"
    }
   ],
   "source": [
    "sol.findMaxAverage([1,12,-5,-6,50,3], 4)"
   ]
  },
  {
   "cell_type": "code",
   "execution_count": 4,
   "id": "80d51f86",
   "metadata": {},
   "outputs": [
    {
     "data": {
      "text/plain": [
       "5.0"
      ]
     },
     "execution_count": 4,
     "metadata": {},
     "output_type": "execute_result"
    }
   ],
   "source": [
    "sol.findMaxAverage([5], 1)"
   ]
  }
 ],
 "metadata": {
  "kernelspec": {
   "display_name": "Python 3 (ipykernel)",
   "language": "python",
   "name": "python3"
  },
  "language_info": {
   "codemirror_mode": {
    "name": "ipython",
    "version": 3
   },
   "file_extension": ".py",
   "mimetype": "text/x-python",
   "name": "python",
   "nbconvert_exporter": "python",
   "pygments_lexer": "ipython3",
   "version": "3.9.13"
  }
 },
 "nbformat": 4,
 "nbformat_minor": 5
}
