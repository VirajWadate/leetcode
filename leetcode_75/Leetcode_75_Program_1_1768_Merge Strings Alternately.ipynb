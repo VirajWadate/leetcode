{
 "cells": [
  {
   "cell_type": "markdown",
   "id": "512d9f18",
   "metadata": {},
   "source": [
    "## 1768. Merge Strings Alternately\n",
    "- You are given two strings word1 and word2. Merge the strings by adding letters in alternating order, starting with word1. If a string is longer than the other, append the additional letters onto the end of the merged string.\n",
    "\n",
    "- Return the merged string.\n",
    "```\n",
    "Example 1:\n",
    "\n",
    "Input: word1 = \"abc\", word2 = \"pqr\"\n",
    "Output: \"apbqcr\"\n",
    "Explanation: The merged string will be merged as so:\n",
    "word1:  a   b   c\n",
    "word2:    p   q   r\n",
    "merged: a p b q c r\n",
    "Example 2:\n",
    "\n",
    "Input: word1 = \"ab\", word2 = \"pqrs\"\n",
    "Output: \"apbqrs\"\n",
    "Explanation: Notice that as word2 is longer, \"rs\" is appended to the end.\n",
    "word1:  a   b \n",
    "word2:    p   q   r   s\n",
    "merged: a p b q   r   s\n",
    "Example 3:\n",
    "\n",
    "Input: word1 = \"abcd\", word2 = \"pq\"\n",
    "Output: \"apbqcd\"\n",
    "Explanation: Notice that as word1 is longer, \"cd\" is appended to the end.\n",
    "word1:  a   b   c   d\n",
    "word2:    p   q \n",
    "merged: a p b q c   d\n",
    "```"
   ]
  },
  {
   "cell_type": "markdown",
   "id": "627bbc23",
   "metadata": {},
   "source": [
    "### Approach\n",
    "1. Create a `result` variable to store alternate string\n",
    "2. Get `min leght` from both string\n",
    "3. Iterate `till min length`\n",
    "4. Use slicing to add remaining elements\n",
    "5. Return result"
   ]
  },
  {
   "cell_type": "code",
   "execution_count": 1,
   "id": "89831668",
   "metadata": {},
   "outputs": [],
   "source": [
    "class Solution:\n",
    "    def mergeAlternately(self, word1: str, word2: str) -> str:\n",
    "        # Get min leght from both string\n",
    "        min_length = min(len(word1), len(word2))\n",
    "        \n",
    "        # Iterate till min length\n",
    "        result = [word1[i] + word2[i] for i in range(min_length)]\n",
    "        \n",
    "        # Use slicing to add remaining elements\n",
    "        result.append(word1[min_length:])\n",
    "        result.append(word2[min_length:])\n",
    "        \n",
    "        # Return result\n",
    "        return ''.join(result)"
   ]
  },
  {
   "cell_type": "code",
   "execution_count": 2,
   "id": "e269ac97",
   "metadata": {},
   "outputs": [],
   "source": [
    "sol = Solution()"
   ]
  },
  {
   "cell_type": "code",
   "execution_count": 3,
   "id": "3b954043",
   "metadata": {},
   "outputs": [
    {
     "name": "stdout",
     "output_type": "stream",
     "text": [
      "apbqcr\n"
     ]
    }
   ],
   "source": [
    "print(sol.mergeAlternately(\"abc\", \"pqr\"))"
   ]
  },
  {
   "cell_type": "code",
   "execution_count": 4,
   "id": "880292bc",
   "metadata": {},
   "outputs": [
    {
     "name": "stdout",
     "output_type": "stream",
     "text": [
      "apbqrs\n"
     ]
    }
   ],
   "source": [
    "print(sol.mergeAlternately(\"ab\", \"pqrs\"))"
   ]
  },
  {
   "cell_type": "code",
   "execution_count": 5,
   "id": "c267a08f",
   "metadata": {},
   "outputs": [
    {
     "name": "stdout",
     "output_type": "stream",
     "text": [
      "apbqcd\n"
     ]
    }
   ],
   "source": [
    "print(sol.mergeAlternately(\"abcd\", \"pq\"))"
   ]
  }
 ],
 "metadata": {
  "kernelspec": {
   "display_name": "Python 3 (ipykernel)",
   "language": "python",
   "name": "python3"
  },
  "language_info": {
   "codemirror_mode": {
    "name": "ipython",
    "version": 3
   },
   "file_extension": ".py",
   "mimetype": "text/x-python",
   "name": "python",
   "nbconvert_exporter": "python",
   "pygments_lexer": "ipython3",
   "version": "3.9.13"
  }
 },
 "nbformat": 4,
 "nbformat_minor": 5
}
