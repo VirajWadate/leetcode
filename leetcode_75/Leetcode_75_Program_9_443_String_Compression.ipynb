{
 "cells": [
  {
   "cell_type": "markdown",
   "id": "c50a7064",
   "metadata": {},
   "source": [
    "### 443. String Compression\n",
    "\n",
    "https://leetcode.com/problems/string-compression/description/?envType=study-plan-v2&envId=leetcode-75\n",
    "\n",
    "- Given an array of characters chars, compress it using the following algorithm:\n",
    "\n",
    "- Begin with an empty string s. For each group of consecutive repeating characters in chars:\n",
    "\n",
    "    - If the group's length is 1, append the character to s.\n",
    "    - Otherwise, append the character followed by the group's length.\n",
    "- The compressed string s should not be returned separately, but instead, be stored in the input character array chars. Note that group lengths that are 10 or longer will be split into multiple characters in chars.\n",
    "\n",
    "- After you are done modifying the input array, return the new length of the array.\n",
    "\n",
    "- You must write an algorithm that uses only constant extra space.\n",
    "\n",
    "```\n",
    "Example 1:\n",
    "Input: chars = [\"a\",\"a\",\"b\",\"b\",\"c\",\"c\",\"c\"]\n",
    "Output: Return 6, and the first 6 characters of the input array should be: [\"a\",\"2\",\"b\",\"2\",\"c\",\"3\"]\n",
    "Explanation: The groups are \"aa\", \"bb\", and \"ccc\". This compresses to \"a2b2c3\".\n",
    "\n",
    "Example 2:\n",
    "Input: chars = [\"a\"]\n",
    "Output: Return 1, and the first character of the input array should be: [\"a\"]\n",
    "Explanation: The only group is \"a\", which remains uncompressed since it's a single character.\n",
    "\n",
    "Example 3:\n",
    "Input: chars = [\"a\",\"b\",\"b\",\"b\",\"b\",\"b\",\"b\",\"b\",\"b\",\"b\",\"b\",\"b\",\"b\"]\n",
    "Output: Return 4, and the first 4 characters of the input array should be: [\"a\",\"b\",\"1\",\"2\"].\n",
    "Explanation: The groups are \"a\" and \"bbbbbbbbbbbb\". This compresses to \"ab12\".\n",
    "```"
   ]
  },
  {
   "cell_type": "markdown",
   "id": "e1aa890c",
   "metadata": {},
   "source": [
    "### Approach\n",
    "1. Create three variable length with length of chars, index and temp_index with 0 as default value\n",
    "2. We have to use nested while loop\n",
    "    - 2.1 Iteration 1 - while temp_index < length\n",
    "    - 2.2 If condition is True then define two variable current_char and count\n",
    "    - 2.3 current_char = chars[temp] and count = 0\n",
    "    - 2.4 Iteration 2 - while temp_index < length and current_char == chars[temp_index]\n",
    "    - 2.5 If condition is True then increment temp_index and count by 1\n",
    "    - 2.6 Once Iteration 2 false then add following conditon \n",
    "    - 2.7 chars[index] = current_char and increment index by 1\n",
    "    - 2.8 If count is greater than 1 iterate it and assing into chars\n",
    "3. Return chars[:index]"
   ]
  },
  {
   "cell_type": "code",
   "execution_count": 2,
   "id": "f843aa8f",
   "metadata": {},
   "outputs": [],
   "source": [
    "from typing import List\n",
    "class Solution:\n",
    "    def compress(self, chars: List[str]) -> int:\n",
    "        index = 0\n",
    "        temp_index = 0\n",
    "        length = len(chars)\n",
    "        while temp_index < length:\n",
    "            current_char = chars[temp_index]\n",
    "            count = 0\n",
    "            while temp_index < length and current_char == chars[temp_index]:\n",
    "                temp_index += 1\n",
    "                count += 1\n",
    "                \n",
    "            chars[index] = current_char\n",
    "            index += 1\n",
    "            \n",
    "            if count > 1:\n",
    "                for digit in str(count):\n",
    "                    chars[index] = digit\n",
    "                    index += 1\n",
    "        return chars[:index]"
   ]
  },
  {
   "cell_type": "code",
   "execution_count": 3,
   "id": "b3c792db",
   "metadata": {},
   "outputs": [],
   "source": [
    "sol = Solution()"
   ]
  },
  {
   "cell_type": "code",
   "execution_count": 4,
   "id": "279fd8cd",
   "metadata": {},
   "outputs": [
    {
     "data": {
      "text/plain": [
       "['a', '2', 'b', '2', 'c', '3']"
      ]
     },
     "execution_count": 4,
     "metadata": {},
     "output_type": "execute_result"
    }
   ],
   "source": [
    "sol.compress([\"a\",\"a\",\"b\",\"b\",\"c\",\"c\",\"c\"])"
   ]
  },
  {
   "cell_type": "code",
   "execution_count": 5,
   "id": "1c26c77f",
   "metadata": {},
   "outputs": [
    {
     "data": {
      "text/plain": [
       "['a']"
      ]
     },
     "execution_count": 5,
     "metadata": {},
     "output_type": "execute_result"
    }
   ],
   "source": [
    "sol.compress([\"a\"])"
   ]
  },
  {
   "cell_type": "code",
   "execution_count": 6,
   "id": "f4ba4350",
   "metadata": {},
   "outputs": [
    {
     "data": {
      "text/plain": [
       "['a', 'b', '1', '2']"
      ]
     },
     "execution_count": 6,
     "metadata": {},
     "output_type": "execute_result"
    }
   ],
   "source": [
    "sol.compress([\"a\",\"b\",\"b\",\"b\",\"b\",\"b\",\"b\",\"b\",\"b\",\"b\",\"b\",\"b\",\"b\"])"
   ]
  }
 ],
 "metadata": {
  "kernelspec": {
   "display_name": "Python 3 (ipykernel)",
   "language": "python",
   "name": "python3"
  },
  "language_info": {
   "codemirror_mode": {
    "name": "ipython",
    "version": 3
   },
   "file_extension": ".py",
   "mimetype": "text/x-python",
   "name": "python",
   "nbconvert_exporter": "python",
   "pygments_lexer": "ipython3",
   "version": "3.9.13"
  }
 },
 "nbformat": 4,
 "nbformat_minor": 5
}
