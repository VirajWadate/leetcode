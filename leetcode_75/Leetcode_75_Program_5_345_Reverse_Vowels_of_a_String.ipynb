{
 "cells": [
  {
   "cell_type": "markdown",
   "id": "fa5f7ef2",
   "metadata": {},
   "source": [
    "## 345. Reverse Vowels of a String\n",
    "\n",
    "https://leetcode.com/problems/reverse-vowels-of-a-string/description/?envType=study-plan-v2&envId=leetcode-75\n",
    "\n",
    "- Given a string s, reverse only all the vowels in the string and return it.\n",
    "\n",
    "- The vowels are 'a', 'e', 'i', 'o', and 'u', and they can appear in both lower and upper cases, more than once.\n",
    "\n",
    "```\n",
    "Example 1:\n",
    "Input: s = \"IceCreAm\"\n",
    "Output: \"AceCreIm\"\n",
    "\n",
    "Explanation:\n",
    "The vowels in s are ['I', 'e', 'e', 'A']. On reversing the vowels, s becomes \"AceCreIm\".\n",
    "\n",
    "Example 2:\n",
    "Input: s = \"leetcode\"\n",
    "Output: \"leotcede\"\n",
    "```"
   ]
  },
  {
   "cell_type": "markdown",
   "id": "126e5a13",
   "metadata": {},
   "source": [
    "### Approach\n",
    "1. Create a variable which stores vowles lower and uppercase\n",
    "2. Create left and right variable\n",
    "    - 2.1 left will start from 0th index\n",
    "    - 2.2 right will start from len(s) - 1\n",
    "3. Convert string into list\n",
    "4. Iterate with while loop\n",
    "    - 4.1 Condition for while is left < right\n",
    "5. Every iteration check\n",
    "    - 5.1 s[left] in vowels and s[right] in vowels then increment left and decrement right\n",
    "    - 5.2 s[left] not in vowels then increment left\n",
    "    - 5.3 s[right] not in vowles then decrement right"
   ]
  },
  {
   "cell_type": "code",
   "execution_count": 1,
   "id": "6f3dd629",
   "metadata": {},
   "outputs": [],
   "source": [
    "class Solution:\n",
    "    def reverseVowels(self, s: str) -> str:\n",
    "        vowels = \"aeiouAEIOU\"\n",
    "        left = 0\n",
    "        right = len(s) - 1\n",
    "        s = list(s)\n",
    "        while left < right:\n",
    "            if s[left] in vowels and s[right] in vowels:\n",
    "                s[left], s[right] = s[right], s[left]\n",
    "                left += 1\n",
    "                right -= 1\n",
    "            elif s[left] not in vowels:\n",
    "                left += 1\n",
    "            elif s[right] not in vowels:\n",
    "                right -= 1\n",
    "        return ''.join(s)"
   ]
  },
  {
   "cell_type": "code",
   "execution_count": 2,
   "id": "70db96ef",
   "metadata": {},
   "outputs": [],
   "source": [
    "sol = Solution()"
   ]
  },
  {
   "cell_type": "code",
   "execution_count": 3,
   "id": "329a3db9",
   "metadata": {},
   "outputs": [
    {
     "data": {
      "text/plain": [
       "'AceCreIm'"
      ]
     },
     "execution_count": 3,
     "metadata": {},
     "output_type": "execute_result"
    }
   ],
   "source": [
    "sol.reverseVowels(\"IceCreAm\")"
   ]
  },
  {
   "cell_type": "code",
   "execution_count": 4,
   "id": "0b42277e",
   "metadata": {},
   "outputs": [
    {
     "data": {
      "text/plain": [
       "'leotcede'"
      ]
     },
     "execution_count": 4,
     "metadata": {},
     "output_type": "execute_result"
    }
   ],
   "source": [
    "sol.reverseVowels(\"leetcode\")"
   ]
  },
  {
   "cell_type": "code",
   "execution_count": 5,
   "id": "8ff6e44c",
   "metadata": {},
   "outputs": [],
   "source": [
    "class Solution2:\n",
    "    def reverseVowels(self, s: str) -> str:\n",
    "        vowels = set(\"aeiouAEIOU\") # set is faster than string\n",
    "        left = 0\n",
    "        right = len(s) - 1\n",
    "        s = list(s) # Convert string to list for mutability\n",
    "        \n",
    "        while left < right:\n",
    "            while left < right and s[left] not in vowels:\n",
    "                left += 1\n",
    "            \n",
    "            while left < right and s[right] not in vowels:\n",
    "                right -= 1\n",
    "            if left < right:\n",
    "                s[left], s[right] = s[right], s[left]\n",
    "                left += 1\n",
    "                right -= 1\n",
    "\n",
    "        return ''.join(s)"
   ]
  },
  {
   "cell_type": "code",
   "execution_count": 6,
   "id": "82a7374e",
   "metadata": {},
   "outputs": [],
   "source": [
    "sol2 = Solution2()"
   ]
  },
  {
   "cell_type": "code",
   "execution_count": 7,
   "id": "09dd2c21",
   "metadata": {},
   "outputs": [
    {
     "data": {
      "text/plain": [
       "'AceCreIm'"
      ]
     },
     "execution_count": 7,
     "metadata": {},
     "output_type": "execute_result"
    }
   ],
   "source": [
    "sol2.reverseVowels(\"IceCreAm\")"
   ]
  },
  {
   "cell_type": "code",
   "execution_count": 8,
   "id": "bc5e9319",
   "metadata": {},
   "outputs": [
    {
     "data": {
      "text/plain": [
       "'leotcede'"
      ]
     },
     "execution_count": 8,
     "metadata": {},
     "output_type": "execute_result"
    }
   ],
   "source": [
    "sol2.reverseVowels(\"leetcode\")"
   ]
  }
 ],
 "metadata": {
  "kernelspec": {
   "display_name": "Python 3 (ipykernel)",
   "language": "python",
   "name": "python3"
  },
  "language_info": {
   "codemirror_mode": {
    "name": "ipython",
    "version": 3
   },
   "file_extension": ".py",
   "mimetype": "text/x-python",
   "name": "python",
   "nbconvert_exporter": "python",
   "pygments_lexer": "ipython3",
   "version": "3.9.13"
  }
 },
 "nbformat": 4,
 "nbformat_minor": 5
}
