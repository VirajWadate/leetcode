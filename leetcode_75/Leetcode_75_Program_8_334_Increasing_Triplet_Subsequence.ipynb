{
 "cells": [
  {
   "cell_type": "markdown",
   "id": "c50a7064",
   "metadata": {},
   "source": [
    "### 334. Increasing Triplet Subsequence\n",
    "https://leetcode.com/problems/increasing-triplet-subsequence/description/?envType=study-plan-v2&envId=leetcode-75\n",
    "\n",
    "- Given an integer array nums, return true if there exists a triple of indices (i, j, k) such that i < j < k and nums[i] < nums[j] < nums[k]. If no such indices exists, return false.\n",
    "\n",
    "```\n",
    "Example 1:\n",
    "Input: nums = [1,2,3,4,5]\n",
    "Output: true\n",
    "Explanation: Any triplet where i < j < k is valid.\n",
    "\n",
    "Example 2:\n",
    "Input: nums = [5,4,3,2,1]\n",
    "Output: false\n",
    "Explanation: No triplet exists.\n",
    "\n",
    "Example 3:\n",
    "Input: nums = [2,1,5,0,4,6]\n",
    "Output: true\n",
    "Explanation: The triplet (3, 4, 5) is valid because nums[3] == 0 < nums[4] == 4 < nums[5] == 6.\n",
    "```"
   ]
  },
  {
   "cell_type": "markdown",
   "id": "e1aa890c",
   "metadata": {},
   "source": [
    "### Approach\n",
    "1. Create two variable first and second with infinity value\n",
    "2. Iterate and check following condition\n",
    "    - 2.1 Check current value is less than first then assign it\n",
    "    - 2.2 Check current value is less than second then assign it\n",
    "    - 2.3 Else return True"
   ]
  },
  {
   "cell_type": "code",
   "execution_count": 1,
   "id": "f843aa8f",
   "metadata": {},
   "outputs": [],
   "source": [
    "from typing import List\n",
    "\n",
    "class Solution:\n",
    "    def increasingTriplet(self, nums: List[int]) -> bool:\n",
    "        first, second = float('inf'), float('inf')\n",
    "        for num in nums:\n",
    "            if num <= first:\n",
    "                first = num\n",
    "            elif num <= second:\n",
    "                second = num\n",
    "            else:\n",
    "                return True\n",
    "        return False"
   ]
  },
  {
   "cell_type": "code",
   "execution_count": 2,
   "id": "f2fe85e6",
   "metadata": {},
   "outputs": [],
   "source": [
    "sol = Solution()"
   ]
  },
  {
   "cell_type": "code",
   "execution_count": 3,
   "id": "ccb4affa",
   "metadata": {},
   "outputs": [
    {
     "data": {
      "text/plain": [
       "True"
      ]
     },
     "execution_count": 3,
     "metadata": {},
     "output_type": "execute_result"
    }
   ],
   "source": [
    "sol.increasingTriplet([1,2,3,4,5])"
   ]
  },
  {
   "cell_type": "code",
   "execution_count": 4,
   "id": "ea02fabd",
   "metadata": {},
   "outputs": [
    {
     "data": {
      "text/plain": [
       "False"
      ]
     },
     "execution_count": 4,
     "metadata": {},
     "output_type": "execute_result"
    }
   ],
   "source": [
    "sol.increasingTriplet([5,4,3,2,1])"
   ]
  },
  {
   "cell_type": "code",
   "execution_count": 5,
   "id": "95a08f0f",
   "metadata": {},
   "outputs": [
    {
     "data": {
      "text/plain": [
       "True"
      ]
     },
     "execution_count": 5,
     "metadata": {},
     "output_type": "execute_result"
    }
   ],
   "source": [
    "sol.increasingTriplet([2,1,5,0,4,6])"
   ]
  }
 ],
 "metadata": {
  "kernelspec": {
   "display_name": "Python 3 (ipykernel)",
   "language": "python",
   "name": "python3"
  },
  "language_info": {
   "codemirror_mode": {
    "name": "ipython",
    "version": 3
   },
   "file_extension": ".py",
   "mimetype": "text/x-python",
   "name": "python",
   "nbconvert_exporter": "python",
   "pygments_lexer": "ipython3",
   "version": "3.9.13"
  }
 },
 "nbformat": 4,
 "nbformat_minor": 5
}
