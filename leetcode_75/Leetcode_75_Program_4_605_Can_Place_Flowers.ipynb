{
 "cells": [
  {
   "cell_type": "markdown",
   "id": "1095e1c8",
   "metadata": {},
   "source": [
    "## 605. Can Place Flowers\n",
    "https://leetcode.com/problems/can-place-flowers/description/?envType=study-plan-v2&envId=leetcode-75\n",
    "    \n",
    "- You have a long flowerbed in which some of the plots are planted, and some are not. However, flowers cannot be planted in adjacent plots.\n",
    "\n",
    "- Given an integer array flowerbed containing 0's and 1's, where 0 means empty and 1 means not empty, and an integer n, return true if n new flowers can be planted in the flowerbed without violating the no-adjacent-flowers rule and false otherwise.\n",
    "\n",
    "```\n",
    "Example 1:\n",
    "Input: flowerbed = [1,0,0,0,1], n = 1\n",
    "Output: true\n",
    "    \n",
    "Example 2:\n",
    "Input: flowerbed = [1,0,0,0,1], n = 2\n",
    "Output: false\n",
    "```"
   ]
  },
  {
   "cell_type": "markdown",
   "id": "bf29ad8b",
   "metadata": {},
   "source": [
    "### Approach"
   ]
  },
  {
   "cell_type": "markdown",
   "id": "e3a12aa2",
   "metadata": {},
   "source": [
    "1. Create two variables count and length\n",
    "    - 1.1 If fower is planted the increment count\n",
    "    - 1.2 length of folwerbed\n",
    "2. Iterate and check following condition:\n",
    "    - 2.1 Check current value is 0 or not\n",
    "    - 2.2 Check current value is 0 or not and current -1 is 0\n",
    "    - 2.3 Check current value of i is last element or current + 1 is 0\n",
    "3. Counter >= n then return True otherwise False"
   ]
  },
  {
   "cell_type": "code",
   "execution_count": 1,
   "id": "b1459696",
   "metadata": {},
   "outputs": [],
   "source": [
    "from typing import List\n",
    "\n",
    "class Solution:\n",
    "    def canPlaceFlowers(self, flowerbed: List[int], n: int) -> bool:\n",
    "        count = 0\n",
    "        length = len(flowerbed)\n",
    "        \n",
    "        for i in range(length):\n",
    "            if flowerbed[i] == 0 and (i == 0 or flowerbed[i-1] == 0) and (i == length - 1 or flowerbed[i+1] == 0):\n",
    "                count += 1\n",
    "                flowerbed[i] = 1\n",
    "                # Early exit\n",
    "                if count >= n:\n",
    "                    return True\n",
    "        return count >= n"
   ]
  },
  {
   "cell_type": "code",
   "execution_count": 2,
   "id": "920ac36f",
   "metadata": {},
   "outputs": [],
   "source": [
    "sol = Solution()"
   ]
  },
  {
   "cell_type": "code",
   "execution_count": 3,
   "id": "36854088",
   "metadata": {},
   "outputs": [
    {
     "data": {
      "text/plain": [
       "True"
      ]
     },
     "execution_count": 3,
     "metadata": {},
     "output_type": "execute_result"
    }
   ],
   "source": [
    "sol.canPlaceFlowers([1,0,0,0,1], 1)"
   ]
  },
  {
   "cell_type": "code",
   "execution_count": 4,
   "id": "0704edd7",
   "metadata": {},
   "outputs": [
    {
     "data": {
      "text/plain": [
       "False"
      ]
     },
     "execution_count": 4,
     "metadata": {},
     "output_type": "execute_result"
    }
   ],
   "source": [
    "sol.canPlaceFlowers([1,0,0,0,1], 2)"
   ]
  }
 ],
 "metadata": {
  "kernelspec": {
   "display_name": "Python 3 (ipykernel)",
   "language": "python",
   "name": "python3"
  },
  "language_info": {
   "codemirror_mode": {
    "name": "ipython",
    "version": 3
   },
   "file_extension": ".py",
   "mimetype": "text/x-python",
   "name": "python",
   "nbconvert_exporter": "python",
   "pygments_lexer": "ipython3",
   "version": "3.9.13"
  }
 },
 "nbformat": 4,
 "nbformat_minor": 5
}
