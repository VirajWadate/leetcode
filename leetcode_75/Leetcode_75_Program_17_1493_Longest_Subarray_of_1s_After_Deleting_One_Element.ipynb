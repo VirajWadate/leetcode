{
 "cells": [
  {
   "cell_type": "markdown",
   "id": "c50a7064",
   "metadata": {},
   "source": [
    "## 1493. Longest Subarray of 1's After Deleting One Element\n",
    "\n",
    "https://leetcode.com/problems/longest-subarray-of-1s-after-deleting-one-element/description/?envType=study-plan-v2&envId=leetcode-75\n",
    "\n",
    "- Given a binary array nums, you should delete one element from it.\n",
    "\n",
    "- Return the size of the longest non-empty subarray containing only 1's in the resulting array. Return 0 if there is no such subarray.\n",
    "\n",
    "```\n",
    "Example 1:\n",
    "Input: nums = [1,1,0,1]\n",
    "Output: 3\n",
    "Explanation: After deleting the number in position 2, [1,1,1] contains 3 numbers with value of 1's.\n",
    "\n",
    "Example 2:\n",
    "Input: nums = [0,1,1,1,0,1,1,0,1]\n",
    "Output: 5\n",
    "Explanation: After deleting the number in position 4, [0,1,1,1,1,1,0,1] longest subarray with value of 1's is [1,1,1,1,1].\n",
    "\n",
    "Example 3:\n",
    "Input: nums = [1,1,1]\n",
    "Output: 2\n",
    "Explanation: You must delete one element.\n",
    "```"
   ]
  },
  {
   "cell_type": "markdown",
   "id": "e1aa890c",
   "metadata": {},
   "source": [
    "### Approach\n",
    "1. Create three variable left, zeros, length with default value 0\n",
    "2. Use for loop to iterate nums and add following condition\n",
    "    - 2.1 `if nums[right] == 0` then increment zeros\n",
    "    - 2.2 Add while loop to check zeros grater than 1 (`while zeros > 1`)\n",
    "    - 2.3 Under while loop we need to check `if nums[left] == 0` then decrement zeros by 1 and default increment left by 1\n",
    "    - 2.4 Calculate `length = max(length, right- left)`\n",
    "3. Return length"
   ]
  },
  {
   "cell_type": "code",
   "execution_count": 1,
   "id": "f843aa8f",
   "metadata": {},
   "outputs": [],
   "source": [
    "from typing import List\n",
    "\n",
    "class Solution:\n",
    "    def longestSubarray(self, nums: List[int]) -> int:\n",
    "        left, zeros, length = 0, 0, 0\n",
    "        for right in range(len(nums)):\n",
    "            if nums[right] == 0:\n",
    "                zeros += 1\n",
    "            while zeros > 1:\n",
    "                if nums[left] == 0:\n",
    "                    zeros -= 1\n",
    "                left += 1\n",
    "            length = max(length, right -left)\n",
    "        return length"
   ]
  },
  {
   "cell_type": "code",
   "execution_count": 2,
   "id": "07e4dd9c",
   "metadata": {},
   "outputs": [],
   "source": [
    "sol = Solution()"
   ]
  },
  {
   "cell_type": "code",
   "execution_count": 3,
   "id": "b33635e9",
   "metadata": {},
   "outputs": [
    {
     "data": {
      "text/plain": [
       "3"
      ]
     },
     "execution_count": 3,
     "metadata": {},
     "output_type": "execute_result"
    }
   ],
   "source": [
    "sol.longestSubarray([1,1,0,1])"
   ]
  },
  {
   "cell_type": "code",
   "execution_count": 4,
   "id": "c4f335c6",
   "metadata": {},
   "outputs": [
    {
     "data": {
      "text/plain": [
       "5"
      ]
     },
     "execution_count": 4,
     "metadata": {},
     "output_type": "execute_result"
    }
   ],
   "source": [
    "sol.longestSubarray([0,1,1,1,0,1,1,0,1])"
   ]
  },
  {
   "cell_type": "code",
   "execution_count": 5,
   "id": "ce16d15a",
   "metadata": {},
   "outputs": [
    {
     "data": {
      "text/plain": [
       "2"
      ]
     },
     "execution_count": 5,
     "metadata": {},
     "output_type": "execute_result"
    }
   ],
   "source": [
    "sol.longestSubarray([1,1,1])"
   ]
  }
 ],
 "metadata": {
  "kernelspec": {
   "display_name": "Python 3 (ipykernel)",
   "language": "python",
   "name": "python3"
  },
  "language_info": {
   "codemirror_mode": {
    "name": "ipython",
    "version": 3
   },
   "file_extension": ".py",
   "mimetype": "text/x-python",
   "name": "python",
   "nbconvert_exporter": "python",
   "pygments_lexer": "ipython3",
   "version": "3.9.13"
  }
 },
 "nbformat": 4,
 "nbformat_minor": 5
}
