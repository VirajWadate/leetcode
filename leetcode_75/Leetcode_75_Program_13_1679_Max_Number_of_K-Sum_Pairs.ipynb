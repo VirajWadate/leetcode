{
 "cells": [
  {
   "cell_type": "markdown",
   "id": "c50a7064",
   "metadata": {},
   "source": [
    "### 1679. Max Number of K-Sum Pairs\n",
    "\n",
    "https://leetcode.com/problems/max-number-of-k-sum-pairs/description/?envType=study-plan-v2&envId=leetcode-75\n",
    "\n",
    "- You are given an integer array nums and an integer k.\n",
    "\n",
    "- In one operation, you can pick two numbers from the array whose sum equals k and remove them from the array.\n",
    "\n",
    "- Return the maximum number of operations you can perform on the array.\n",
    "\n",
    "```\n",
    "Example 1:\n",
    "Input: nums = [1,2,3,4], k = 5\n",
    "Output: 2\n",
    "Explanation: Starting with nums = [1,2,3,4]:\n",
    "- Remove numbers 1 and 4, then nums = [2,3]\n",
    "- Remove numbers 2 and 3, then nums = []\n",
    "There are no more pairs that sum up to 5, hence a total of 2 operations.\n",
    "\n",
    "Example 2:\n",
    "Input: nums = [3,1,3,4,3], k = 6\n",
    "Output: 1\n",
    "Explanation: Starting with nums = [3,1,3,4,3]:\n",
    "- Remove the first two 3's, then nums = [1,4,3]\n",
    "There are no more pairs that sum up to 6, hence a total of 1 operation.\n",
    "```"
   ]
  },
  {
   "cell_type": "markdown",
   "id": "e1aa890c",
   "metadata": {},
   "source": [
    "### Approach\n",
    "1. Create a elements dictionary which contains mapping\n",
    "2. Create a variable which contains operations\n",
    "3. Iterate using for loop\n",
    "    - 3.1 Calculate `complement = k - n` # k is constant and n is element from nums\n",
    "    - 3.2 `if complement in elements and elements[complement] > 0` then\n",
    "    - 3.2 operations += 1 and elements[complement] -= 1\n",
    "    - 3.3 else then add condition `if n in elements` increment by 1\n",
    "    - 3.4 otherwise create key with default value 1"
   ]
  },
  {
   "cell_type": "code",
   "execution_count": 1,
   "id": "f843aa8f",
   "metadata": {},
   "outputs": [],
   "source": [
    "from typing import List\n",
    "\n",
    "class Solution:\n",
    "    def maxOperations(self, nums: List[int], k: int) -> int:\n",
    "        elements = {}\n",
    "        operations = 0\n",
    "        for n in nums:\n",
    "            complement = k - n\n",
    "            if complement in elements and elements[complement] > 0:\n",
    "                operations += 1\n",
    "                elements[complement] -= 1\n",
    "            else:\n",
    "                if n in elements:\n",
    "                    elements[n] += 1\n",
    "                else:\n",
    "                    elements[n] = 1\n",
    "        return operations"
   ]
  },
  {
   "cell_type": "code",
   "execution_count": 2,
   "id": "aea9e7a2",
   "metadata": {},
   "outputs": [],
   "source": [
    "sol = Solution()"
   ]
  },
  {
   "cell_type": "code",
   "execution_count": 3,
   "id": "64cc5b00",
   "metadata": {},
   "outputs": [
    {
     "data": {
      "text/plain": [
       "2"
      ]
     },
     "execution_count": 3,
     "metadata": {},
     "output_type": "execute_result"
    }
   ],
   "source": [
    "sol.maxOperations([1,2,3,4], 5)"
   ]
  },
  {
   "cell_type": "code",
   "execution_count": 4,
   "id": "b886d451",
   "metadata": {},
   "outputs": [
    {
     "data": {
      "text/plain": [
       "1"
      ]
     },
     "execution_count": 4,
     "metadata": {},
     "output_type": "execute_result"
    }
   ],
   "source": [
    "sol.maxOperations([3,1,3,4,3], 6)"
   ]
  }
 ],
 "metadata": {
  "kernelspec": {
   "display_name": "Python 3 (ipykernel)",
   "language": "python",
   "name": "python3"
  },
  "language_info": {
   "codemirror_mode": {
    "name": "ipython",
    "version": 3
   },
   "file_extension": ".py",
   "mimetype": "text/x-python",
   "name": "python",
   "nbconvert_exporter": "python",
   "pygments_lexer": "ipython3",
   "version": "3.9.13"
  }
 },
 "nbformat": 4,
 "nbformat_minor": 5
}
