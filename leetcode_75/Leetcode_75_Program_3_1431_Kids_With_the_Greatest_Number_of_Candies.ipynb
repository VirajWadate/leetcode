{
 "cells": [
  {
   "cell_type": "markdown",
   "id": "2a714679",
   "metadata": {},
   "source": [
    "## 1431. Kids With the Greatest Number of Candies\n",
    "https://leetcode.com/problems/kids-with-the-greatest-number-of-candies/description/?envType=study-plan-v2&envId=leetcode-75\n",
    "\n",
    "- There are n kids with candies. You are given an integer array candies, where each candies[i] represents the number of candies the ith kid has, and an integer extraCandies, denoting the number of extra candies that you have.\n",
    "- Return a boolean array result of length n, where result[i] is true if, after giving the ith kid all the extraCandies, they will have the greatest number of candies among all the kids, or false otherwise.\n",
    "- Note that multiple kids can have the greatest number of candies.\n",
    "\n",
    "```\n",
    "Example 1:\n",
    "Input: candies = [2,3,5,1,3], extraCandies = 3\n",
    "Output: [true,true,true,false,true] \n",
    "Explanation: If you give all extraCandies to:\n",
    "- Kid 1, they will have 2 + 3 = 5 candies, which is the greatest among the kids.\n",
    "- Kid 2, they will have 3 + 3 = 6 candies, which is the greatest among the kids.\n",
    "- Kid 3, they will have 5 + 3 = 8 candies, which is the greatest among the kids.\n",
    "- Kid 4, they will have 1 + 3 = 4 candies, which is not the greatest among the kids.\n",
    "- Kid 5, they will have 3 + 3 = 6 candies, which is the greatest among the kids.\n",
    "\n",
    "Example 2:\n",
    "Input: candies = [4,2,1,1,2], extraCandies = 1\n",
    "Output: [true,false,false,false,false] \n",
    "Explanation: There is only 1 extra candy.\n",
    "Kid 1 will always have the greatest number of candies, even if a different kid is given the extra candy.\n",
    "\n",
    "Example 3:\n",
    "Input: candies = [12,1,12], extraCandies = 10\n",
    "Output: [true,false,true]\n",
    "```"
   ]
  },
  {
   "cell_type": "markdown",
   "id": "58512ce4",
   "metadata": {},
   "source": [
    "### Approach\n",
    "1. Get `max candies` from candies\n",
    "2. Use list comprehension and following condition\n",
    "    - 2.1 Current `candie + extra_candies >= max candies`\n",
    "    - 2.2 Return above result"
   ]
  },
  {
   "cell_type": "code",
   "execution_count": 1,
   "id": "8917ea75",
   "metadata": {},
   "outputs": [],
   "source": [
    "from typing import List\n",
    "\n",
    "class Solution:\n",
    "    def kidsWithCandies(self, candies: List[int], extraCandies: int) -> List[bool]:\n",
    "        # Get max_candies \n",
    "        max_candies = max(candies)\n",
    "        \n",
    "        # List comprehension to calculate max candies\n",
    "        return [candy + extraCandies >= max_candies for candy in candies]"
   ]
  },
  {
   "cell_type": "code",
   "execution_count": 2,
   "id": "bcffe11e",
   "metadata": {},
   "outputs": [],
   "source": [
    "sol = Solution()"
   ]
  },
  {
   "cell_type": "code",
   "execution_count": 3,
   "id": "b0b202b0",
   "metadata": {},
   "outputs": [
    {
     "data": {
      "text/plain": [
       "[True, True, True, False, True]"
      ]
     },
     "execution_count": 3,
     "metadata": {},
     "output_type": "execute_result"
    }
   ],
   "source": [
    "sol.kidsWithCandies([2,3,5,1,3], 3)"
   ]
  },
  {
   "cell_type": "code",
   "execution_count": 4,
   "id": "28021a09",
   "metadata": {},
   "outputs": [
    {
     "data": {
      "text/plain": [
       "[True, False, False, False, False]"
      ]
     },
     "execution_count": 4,
     "metadata": {},
     "output_type": "execute_result"
    }
   ],
   "source": [
    "sol.kidsWithCandies([4,2,1,1,2], 1)"
   ]
  },
  {
   "cell_type": "code",
   "execution_count": 5,
   "id": "bbdf3864",
   "metadata": {},
   "outputs": [
    {
     "data": {
      "text/plain": [
       "[True, False, True]"
      ]
     },
     "execution_count": 5,
     "metadata": {},
     "output_type": "execute_result"
    }
   ],
   "source": [
    "sol.kidsWithCandies([12,1,12], 10)"
   ]
  }
 ],
 "metadata": {
  "kernelspec": {
   "display_name": "Python 3 (ipykernel)",
   "language": "python",
   "name": "python3"
  },
  "language_info": {
   "codemirror_mode": {
    "name": "ipython",
    "version": 3
   },
   "file_extension": ".py",
   "mimetype": "text/x-python",
   "name": "python",
   "nbconvert_exporter": "python",
   "pygments_lexer": "ipython3",
   "version": "3.9.13"
  }
 },
 "nbformat": 4,
 "nbformat_minor": 5
}
