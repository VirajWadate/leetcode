{
 "cells": [
  {
   "cell_type": "markdown",
   "id": "c50a7064",
   "metadata": {},
   "source": [
    "### 11. Container With Most Water\n",
    "\n",
    "https://leetcode.com/problems/container-with-most-water/description/?envType=study-plan-v2&envId=leetcode-75\n",
    "\n",
    "- You are given an integer array height of length n. There are n vertical lines drawn such that the two endpoints of the ith line are (i, 0) and (i, height[i]).\n",
    "\n",
    "- Find two lines that together with the x-axis form a container, such that the container contains the most water.\n",
    "\n",
    "- Return the maximum amount of water a container can store.\n",
    "\n",
    "- Notice that you may not slant the container.\n",
    "\n",
    "```\n",
    "Example 1:\n",
    "Input: height = [1,8,6,2,5,4,8,3,7]\n",
    "Output: 49\n",
    "\n",
    "Example 2:\n",
    "Input: height = [1,1]\n",
    "Output: 1\n",
    "```"
   ]
  },
  {
   "cell_type": "markdown",
   "id": "e1aa890c",
   "metadata": {},
   "source": [
    "### Approach\n",
    "1. Create three variables left, right and max_area\n",
    "    - 1.1 left will start from 0th index\n",
    "    - 1.2 right will start from len(height) - 1\n",
    "    - 1.3 max_area by default 0\n",
    "2. while left < right\n",
    "    - 2.1 l_height = height[l] and r_height = height[r]\n",
    "    - 2.2 Formula temp_area = min(l_height, r_height) * (right - left)\n",
    "    - 2.3 If l_height < r_height then left += 1 else right -= 1\n",
    "    - 2.4 max_area = max(temp_area, max_area)\n",
    "3. return max_area post loop completion"
   ]
  },
  {
   "cell_type": "code",
   "execution_count": 1,
   "id": "f843aa8f",
   "metadata": {},
   "outputs": [],
   "source": [
    "from typing import List\n",
    "\n",
    "class Solution:\n",
    "    def maxArea(self, height: List[int]) -> int:\n",
    "        max_area = 0\n",
    "        left, right = 0, len(height) - 1\n",
    "        while left < right:\n",
    "            l_height, r_height = height[left], height[right]\n",
    "            temp_area = min(l_height, r_height) * (right - left)\n",
    "            max_area = max(max_area, temp_area)\n",
    "            if l_height < r_height:\n",
    "                left += 1\n",
    "            else:\n",
    "                right -= 1\n",
    "        return max_area"
   ]
  },
  {
   "cell_type": "code",
   "execution_count": 2,
   "id": "0aa51460",
   "metadata": {},
   "outputs": [],
   "source": [
    "sol = Solution()"
   ]
  },
  {
   "cell_type": "code",
   "execution_count": 3,
   "id": "d63da54c",
   "metadata": {},
   "outputs": [
    {
     "data": {
      "text/plain": [
       "49"
      ]
     },
     "execution_count": 3,
     "metadata": {},
     "output_type": "execute_result"
    }
   ],
   "source": [
    "sol.maxArea([1,8,6,2,5,4,8,3,7])"
   ]
  },
  {
   "cell_type": "code",
   "execution_count": 4,
   "id": "14efe762",
   "metadata": {},
   "outputs": [
    {
     "data": {
      "text/plain": [
       "1"
      ]
     },
     "execution_count": 4,
     "metadata": {},
     "output_type": "execute_result"
    }
   ],
   "source": [
    "sol.maxArea([1,1])"
   ]
  }
 ],
 "metadata": {
  "kernelspec": {
   "display_name": "Python 3 (ipykernel)",
   "language": "python",
   "name": "python3"
  },
  "language_info": {
   "codemirror_mode": {
    "name": "ipython",
    "version": 3
   },
   "file_extension": ".py",
   "mimetype": "text/x-python",
   "name": "python",
   "nbconvert_exporter": "python",
   "pygments_lexer": "ipython3",
   "version": "3.9.13"
  }
 },
 "nbformat": 4,
 "nbformat_minor": 5
}
