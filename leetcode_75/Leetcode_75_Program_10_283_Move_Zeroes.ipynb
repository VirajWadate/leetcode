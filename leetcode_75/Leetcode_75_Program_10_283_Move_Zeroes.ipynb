{
 "cells": [
  {
   "cell_type": "markdown",
   "id": "c50a7064",
   "metadata": {},
   "source": [
    "### 283. Move Zeroes\n",
    "\n",
    "https://leetcode.com/problems/move-zeroes/description/?envType=study-plan-v2&envId=leetcode-75\n",
    "\n",
    "- Given an integer array nums, move all 0's to the end of it while maintaining the relative order of the non-zero elements.\n",
    "\n",
    "- Note that you must do this in-place without making a copy of the array.\n",
    "\n",
    "```\n",
    "Example 1:\n",
    "Input: nums = [0,1,0,3,12]\n",
    "Output: [1,3,12,0,0]\n",
    "\n",
    "Example 2:\n",
    "Input: nums = [0]\n",
    "Output: [0]\n",
    "```"
   ]
  },
  {
   "cell_type": "markdown",
   "id": "e1aa890c",
   "metadata": {},
   "source": [
    "### Approach\n",
    "1. Create a variable to hold `non_zero_index`\n",
    "2. For loop 1\n",
    "    - 2.1 Check current value is non zero `(nums[i] != 0)`\n",
    "    - 2.2 If value is non zero then `increment` non_zero_index\n",
    "3. For loop 2\n",
    "    - 3.1 Start range from `non_zero index` and end `till last element`\n",
    "    - 3.2 Assing `0` as default value to all indexes\n",
    "4. return nums"
   ]
  },
  {
   "cell_type": "code",
   "execution_count": 1,
   "id": "f843aa8f",
   "metadata": {},
   "outputs": [],
   "source": [
    "from typing import List\n",
    "\n",
    "class Solution:\n",
    "    def moveZeroes(self, nums: List[int]) -> None:\n",
    "        \"\"\"\n",
    "        Do not return anything, modify nums in-place instead.\n",
    "        \"\"\"\n",
    "        non_zero_index = 0\n",
    "        for i in range(len(nums)):\n",
    "            if nums[i] != 0:\n",
    "                nums[non_zero_index] = nums[i]\n",
    "                non_zero_index += 1\n",
    "                \n",
    "        for i in range(non_zero_index, len(nums)):\n",
    "            nums[i] = 0\n",
    "        return nums"
   ]
  },
  {
   "cell_type": "code",
   "execution_count": 2,
   "id": "a58b4c81",
   "metadata": {},
   "outputs": [],
   "source": [
    "sol = Solution()"
   ]
  },
  {
   "cell_type": "code",
   "execution_count": 3,
   "id": "17d8b5d5",
   "metadata": {},
   "outputs": [
    {
     "data": {
      "text/plain": [
       "[1, 3, 12, 0, 0]"
      ]
     },
     "execution_count": 3,
     "metadata": {},
     "output_type": "execute_result"
    }
   ],
   "source": [
    "sol.moveZeroes([0,1,0,3,12])"
   ]
  },
  {
   "cell_type": "code",
   "execution_count": 4,
   "id": "9ca91cae",
   "metadata": {},
   "outputs": [
    {
     "data": {
      "text/plain": [
       "[0]"
      ]
     },
     "execution_count": 4,
     "metadata": {},
     "output_type": "execute_result"
    }
   ],
   "source": [
    "sol.moveZeroes([0])"
   ]
  },
  {
   "cell_type": "code",
   "execution_count": null,
   "id": "911abdf5",
   "metadata": {},
   "outputs": [],
   "source": []
  }
 ],
 "metadata": {
  "kernelspec": {
   "display_name": "Python 3 (ipykernel)",
   "language": "python",
   "name": "python3"
  },
  "language_info": {
   "codemirror_mode": {
    "name": "ipython",
    "version": 3
   },
   "file_extension": ".py",
   "mimetype": "text/x-python",
   "name": "python",
   "nbconvert_exporter": "python",
   "pygments_lexer": "ipython3",
   "version": "3.9.13"
  }
 },
 "nbformat": 4,
 "nbformat_minor": 5
}
