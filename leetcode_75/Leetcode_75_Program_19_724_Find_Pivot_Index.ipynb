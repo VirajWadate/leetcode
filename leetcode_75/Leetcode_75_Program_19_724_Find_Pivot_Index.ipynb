{
 "cells": [
  {
   "cell_type": "markdown",
   "id": "c50a7064",
   "metadata": {},
   "source": [
    "## 724. Find Pivot Index\n",
    "\n",
    "https://leetcode.com/problems/find-pivot-index/description/?envType=study-plan-v2&envId=leetcode-75\n",
    "\n",
    "- Given an array of integers nums, calculate the pivot index of this array.\n",
    "\n",
    "- The pivot index is the index where the sum of all the numbers strictly to the left of the index is equal to the sum of all the numbers strictly to the index's right.\n",
    "\n",
    "- If the index is on the left edge of the array, then the left sum is 0 because there are no elements to the left. This also applies to the right edge of the array.\n",
    "\n",
    "- Return the leftmost pivot index. If no such index exists, return -1\n",
    "\n",
    "```\n",
    "Example 1:\n",
    "Input: nums = [1,7,3,6,5,6]\n",
    "Output: 3\n",
    "Explanation:\n",
    "The pivot index is 3.\n",
    "Left sum = nums[0] + nums[1] + nums[2] = 1 + 7 + 3 = 11\n",
    "Right sum = nums[4] + nums[5] = 5 + 6 = 11\n",
    "\n",
    "Example 2:\n",
    "Input: nums = [1,2,3]\n",
    "Output: -1\n",
    "Explanation:\n",
    "There is no index that satisfies the conditions in the problem statement.\n",
    "\n",
    "Example 3:\n",
    "Input: nums = [2,1,-1]\n",
    "Output: 0\n",
    "Explanation:\n",
    "The pivot index is 0.\n",
    "Left sum = 0 (no elements to the left of index 0)\n",
    "Right sum = nums[1] + nums[2] = 1 + -1 = 0\n",
    "```"
   ]
  },
  {
   "cell_type": "markdown",
   "id": "e1aa890c",
   "metadata": {},
   "source": [
    "### Approach\n",
    "1. Create two varaible total_sum and left_sum\n",
    "    - 1.1 Total sum will `sum(nums)` and left_sum will be 0 while defining\n",
    "2. Iterate on nums\n",
    "    - 2.1 `for i in range(len(nums))`\n",
    "    - 2.2 Condition `left_sum == total_sum - left_sum - nums[i]` if left and right sum are same return index\n",
    "    - 2.3 Increment `left_sum += nums[i]`\n",
    "    - 2.3 Return `-1` if condition does't match"
   ]
  },
  {
   "cell_type": "code",
   "execution_count": 2,
   "id": "f843aa8f",
   "metadata": {},
   "outputs": [],
   "source": [
    "from typing import List\n",
    "\n",
    "class Solution:\n",
    "    def pivotIndex(self, nums: List[int]) -> int:\n",
    "        total_sum = sum(nums)\n",
    "        left_sum = 0\n",
    "        for i in range(len(nums)):\n",
    "            if left_sum == total_sum - left_sum - nums[i]:\n",
    "                return i\n",
    "            left_sum += nums[i]\n",
    "        return -1"
   ]
  },
  {
   "cell_type": "code",
   "execution_count": 3,
   "id": "3236e16c",
   "metadata": {},
   "outputs": [],
   "source": [
    "sol = Solution()"
   ]
  },
  {
   "cell_type": "code",
   "execution_count": 4,
   "id": "9ef5f81e",
   "metadata": {},
   "outputs": [
    {
     "data": {
      "text/plain": [
       "3"
      ]
     },
     "execution_count": 4,
     "metadata": {},
     "output_type": "execute_result"
    }
   ],
   "source": [
    "sol.pivotIndex([1,7,3,6,5,6])"
   ]
  },
  {
   "cell_type": "code",
   "execution_count": 5,
   "id": "5d305d82",
   "metadata": {},
   "outputs": [
    {
     "data": {
      "text/plain": [
       "-1"
      ]
     },
     "execution_count": 5,
     "metadata": {},
     "output_type": "execute_result"
    }
   ],
   "source": [
    "sol.pivotIndex([1,2,3])"
   ]
  },
  {
   "cell_type": "code",
   "execution_count": 6,
   "id": "734cdb58",
   "metadata": {},
   "outputs": [
    {
     "data": {
      "text/plain": [
       "0"
      ]
     },
     "execution_count": 6,
     "metadata": {},
     "output_type": "execute_result"
    }
   ],
   "source": [
    "sol.pivotIndex([2,1,-1])"
   ]
  }
 ],
 "metadata": {
  "kernelspec": {
   "display_name": "Python 3 (ipykernel)",
   "language": "python",
   "name": "python3"
  },
  "language_info": {
   "codemirror_mode": {
    "name": "ipython",
    "version": 3
   },
   "file_extension": ".py",
   "mimetype": "text/x-python",
   "name": "python",
   "nbconvert_exporter": "python",
   "pygments_lexer": "ipython3",
   "version": "3.9.13"
  }
 },
 "nbformat": 4,
 "nbformat_minor": 5
}
