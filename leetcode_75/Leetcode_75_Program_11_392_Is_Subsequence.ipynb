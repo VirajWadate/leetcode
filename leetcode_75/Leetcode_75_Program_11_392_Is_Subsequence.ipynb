{
 "cells": [
  {
   "cell_type": "markdown",
   "id": "c50a7064",
   "metadata": {},
   "source": [
    "### 392. Is Subsequence\n",
    "\n",
    "https://leetcode.com/problems/is-subsequence/description/?envType=study-plan-v2&envId=leetcode-75\n",
    "\n",
    "- Given two strings s and t, return true if s is a subsequence of t, or false otherwise.\n",
    "\n",
    "- A subsequence of a string is a new string that is formed from the original string by deleting some (can be none) of the characters without disturbing the relative positions of the remaining characters. (i.e., \"ace\" is a subsequence of \"abcde\" while \"aec\" is not).\n",
    "\n",
    "```\n",
    "Example 1:\n",
    "Input: s = \"abc\", t = \"ahbgdc\"\n",
    "Output: true\n",
    "\n",
    "Example 2:\n",
    "Input: s = \"axc\", t = \"ahbgdc\"\n",
    "Output: false\n",
    "```"
   ]
  },
  {
   "cell_type": "markdown",
   "id": "e1aa890c",
   "metadata": {},
   "source": [
    "### Approach\n",
    "1. Create two variables left and right with default value 0\n",
    "2. Calculate length for both string\n",
    "    - 2.1 len(s) and len(t)\n",
    "3. While loop 1 (left < len(s) and righ < len(t))\n",
    "    - 3.1 Check s[left] and t[right] are same if not then increment right\n",
    "    - 3.1 If both are same then increment left and right\n",
    "4. If length of s and left are same return True else False"
   ]
  },
  {
   "cell_type": "code",
   "execution_count": 1,
   "id": "f843aa8f",
   "metadata": {},
   "outputs": [],
   "source": [
    "class Solution:\n",
    "    def isSubsequence(self, s: str, t: str) -> bool:\n",
    "        left, right = 0, 0\n",
    "        s_length, t_length = len(s), len(t)\n",
    "        \n",
    "        while left < s_length and right < t_length:\n",
    "            if s[left] == t[right]:\n",
    "                left += 1\n",
    "            right += 1\n",
    "        return left == s_length"
   ]
  },
  {
   "cell_type": "code",
   "execution_count": 2,
   "id": "eb69341c",
   "metadata": {},
   "outputs": [],
   "source": [
    "sol = Solution()"
   ]
  },
  {
   "cell_type": "code",
   "execution_count": 3,
   "id": "ee5fd1f2",
   "metadata": {},
   "outputs": [
    {
     "data": {
      "text/plain": [
       "True"
      ]
     },
     "execution_count": 3,
     "metadata": {},
     "output_type": "execute_result"
    }
   ],
   "source": [
    "sol.isSubsequence(\"abc\", \"ahbgdc\")"
   ]
  },
  {
   "cell_type": "code",
   "execution_count": 4,
   "id": "1a8adba0",
   "metadata": {},
   "outputs": [
    {
     "data": {
      "text/plain": [
       "False"
      ]
     },
     "execution_count": 4,
     "metadata": {},
     "output_type": "execute_result"
    }
   ],
   "source": [
    "sol.isSubsequence(\"axc\", \"ahbgdc\")"
   ]
  }
 ],
 "metadata": {
  "kernelspec": {
   "display_name": "Python 3 (ipykernel)",
   "language": "python",
   "name": "python3"
  },
  "language_info": {
   "codemirror_mode": {
    "name": "ipython",
    "version": 3
   },
   "file_extension": ".py",
   "mimetype": "text/x-python",
   "name": "python",
   "nbconvert_exporter": "python",
   "pygments_lexer": "ipython3",
   "version": "3.9.13"
  }
 },
 "nbformat": 4,
 "nbformat_minor": 5
}
