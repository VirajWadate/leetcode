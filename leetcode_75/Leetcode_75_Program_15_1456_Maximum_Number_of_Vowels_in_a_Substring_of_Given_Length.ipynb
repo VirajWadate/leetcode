{
 "cells": [
  {
   "cell_type": "markdown",
   "id": "c50a7064",
   "metadata": {},
   "source": [
    "## 1456. Maximum Number of Vowels in a Substring of Given Length\n",
    "https://leetcode.com/problems/maximum-number-of-vowels-in-a-substring-of-given-length/description/?envType=study-plan-v2&envId=leetcode-75\n",
    "\n",
    "- Given a string s and an integer k, return the maximum number of vowel letters in any substring of s with length k.\n",
    "\n",
    "- Vowel letters in English are 'a', 'e', 'i', 'o', and 'u'.\n",
    "\n",
    "```\n",
    "Example 1:\n",
    "Input: s = \"abciiidef\", k = 3\n",
    "Output: 3\n",
    "Explanation: The substring \"iii\" contains 3 vowel letters.\n",
    "\n",
    "Example 2:\n",
    "Input: s = \"aeiou\", k = 2\n",
    "Output: 2\n",
    "Explanation: Any substring of length 2 contains 2 vowels.\n",
    "\n",
    "Example 3:\n",
    "Input: s = \"leetcode\", k = 3\n",
    "Output: 2\n",
    "Explanation: \"lee\", \"eet\" and \"ode\" contain 2 vowels.\n",
    "```"
   ]
  },
  {
   "cell_type": "markdown",
   "id": "e1aa890c",
   "metadata": {},
   "source": [
    "### Approach\n",
    "1. Create two variables `count` and `vowels`\n",
    "2. `Iteration 1` - for i in range(k)\n",
    "    - 2.1 If current character is in vowels then `increment count`\n",
    "3. Assing `count` to `max_count` \n",
    "4. `Iteration 2` - for i in range(k, len(s))\n",
    "    - 4.1 `Condition 1` - `if s[i-k] in vowels` Check last charachter is vowel or not then decrement count by 1\n",
    "    - 4.2 `Condition 2` - `If s[i] in vowels` Increment count by 1\n",
    "5. Compare count with max_count\n",
    "    - 5.1 max_count = count(max_count, count)\n",
    "6. Return max_count"
   ]
  },
  {
   "cell_type": "code",
   "execution_count": 1,
   "id": "f843aa8f",
   "metadata": {},
   "outputs": [],
   "source": [
    "class Solution:\n",
    "    def maxVowels(self, s: str, k: int) -> int:\n",
    "        count = 0\n",
    "        vowels = \"aeiou\"\n",
    "        for i in range(k):\n",
    "            if s[i] in vowels:\n",
    "                count += 1\n",
    "        max_count = count\n",
    "        \n",
    "        for i in range(k, len(s)):\n",
    "            if s[i-k] in vowels:\n",
    "                count -= 1\n",
    "            if s[i] in vowels:\n",
    "                count += 1\n",
    "            max_count = max(max_count, count)\n",
    "        return max_count"
   ]
  },
  {
   "cell_type": "code",
   "execution_count": 2,
   "id": "5b887da6",
   "metadata": {},
   "outputs": [],
   "source": [
    "sol = Solution()"
   ]
  },
  {
   "cell_type": "code",
   "execution_count": 3,
   "id": "1203e726",
   "metadata": {},
   "outputs": [
    {
     "data": {
      "text/plain": [
       "3"
      ]
     },
     "execution_count": 3,
     "metadata": {},
     "output_type": "execute_result"
    }
   ],
   "source": [
    "sol.maxVowels(\"abciiidef\", 3)"
   ]
  },
  {
   "cell_type": "code",
   "execution_count": 4,
   "id": "66a1af17",
   "metadata": {},
   "outputs": [
    {
     "data": {
      "text/plain": [
       "2"
      ]
     },
     "execution_count": 4,
     "metadata": {},
     "output_type": "execute_result"
    }
   ],
   "source": [
    "sol.maxVowels(\"aeiou\", 2)"
   ]
  },
  {
   "cell_type": "code",
   "execution_count": 5,
   "id": "be2713e7",
   "metadata": {},
   "outputs": [
    {
     "data": {
      "text/plain": [
       "2"
      ]
     },
     "execution_count": 5,
     "metadata": {},
     "output_type": "execute_result"
    }
   ],
   "source": [
    "sol.maxVowels(\"leetcode\", 3)"
   ]
  }
 ],
 "metadata": {
  "kernelspec": {
   "display_name": "Python 3 (ipykernel)",
   "language": "python",
   "name": "python3"
  },
  "language_info": {
   "codemirror_mode": {
    "name": "ipython",
    "version": 3
   },
   "file_extension": ".py",
   "mimetype": "text/x-python",
   "name": "python",
   "nbconvert_exporter": "python",
   "pygments_lexer": "ipython3",
   "version": "3.9.13"
  }
 },
 "nbformat": 4,
 "nbformat_minor": 5
}
